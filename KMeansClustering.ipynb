{
 "cells": [
  {
   "cell_type": "markdown",
   "metadata": {},
   "source": [
    "# K-Means Clustering\n",
    "\n",
    "Deskripsi     : Script berikut ini adalah script yang digunakan untuk melakukan K-Means Clustering\n",
    "\n",
    "Dataset       : Dataset Dummy yang terdiri dari dua variabel, yaitu variabel gaji dan pengeluaran\n",
    "\n",
    "Referensi     : Buku Fundamental with Python (by Teguh Wahyono)\n",
    "\n",
    "Curated by    : B. Ari Kuncoro (IYKRA)"
   ]
  },
  {
   "cell_type": "markdown",
   "metadata": {},
   "source": [
    "## Latar Belakang\n",
    "\n",
    "Sebuah perusahaan melakukan penelitian terhadap data-data konsumen yang dimilikinya. Perusahaan tersebut akan melakukan pengelompokan data ke dalam beberapa cluster berdasarkan kriteria besaran gaji yang diterima dan pengeluaran per bulannya. \n",
    "\n",
    "\n",
    "## Bagaimana cara melakukan clustering?\n",
    "\n",
    "Langkah pertama yang mesti kita lakukan adalah dengan memanggil library atau pustaka yang dibutuhkan, yaitu matplotlib, numpy, pandas, dan sklearn. "
   ]
  },
  {
   "cell_type": "code",
   "execution_count": 67,
   "metadata": {},
   "outputs": [],
   "source": [
    "# Step 1. Memanggil Library yang dibutuhkan \n",
    "\n",
    "%matplotlib inline \n",
    "import matplotlib.pyplot as plt \n",
    "import numpy as np \n",
    "import pandas as pd \n",
    "from sklearn.cluster import KMeans"
   ]
  },
  {
   "cell_type": "markdown",
   "metadata": {},
   "source": [
    "Langkah kedua adalah memanggil Dataset "
   ]
  },
  {
   "cell_type": "code",
   "execution_count": 75,
   "metadata": {},
   "outputs": [
    {
     "data": {
      "text/plain": [
       "Index(['pintu_masuk', 'januari', 'februari', 'maret', 'april', 'mei', 'juni',\n",
       "       'juli', 'agustus', 'september', 'oktober', 'november', 'desember'],\n",
       "      dtype='object')"
      ]
     },
     "execution_count": 75,
     "metadata": {},
     "output_type": "execute_result"
    }
   ],
   "source": [
    "# Step 2. Memanggil dataset \n",
    "dataset = pd.read_csv('Data_2014.csv')\n",
    "dataset.keys()"
   ]
  },
  {
   "cell_type": "code",
   "execution_count": 76,
   "metadata": {},
   "outputs": [
    {
     "name": "stdout",
     "output_type": "stream",
     "text": [
      "<class 'pandas.core.frame.DataFrame'>\n",
      "RangeIndex: 20 entries, 0 to 19\n",
      "Data columns (total 13 columns):\n",
      "pintu_masuk    20 non-null object\n",
      "januari        20 non-null float64\n",
      "februari       20 non-null float64\n",
      "maret          20 non-null float64\n",
      "april          20 non-null float64\n",
      "mei            20 non-null float64\n",
      "juni           20 non-null float64\n",
      "juli           20 non-null float64\n",
      "agustus        20 non-null float64\n",
      "september      20 non-null float64\n",
      "oktober        20 non-null float64\n",
      "november       20 non-null float64\n",
      "desember       20 non-null float64\n",
      "dtypes: float64(12), object(1)\n",
      "memory usage: 2.1+ KB\n"
     ]
    }
   ],
   "source": [
    "dataset.info()"
   ]
  },
  {
   "cell_type": "code",
   "execution_count": 77,
   "metadata": {},
   "outputs": [
    {
     "data": {
      "text/html": [
       "<div>\n",
       "<style scoped>\n",
       "    .dataframe tbody tr th:only-of-type {\n",
       "        vertical-align: middle;\n",
       "    }\n",
       "\n",
       "    .dataframe tbody tr th {\n",
       "        vertical-align: top;\n",
       "    }\n",
       "\n",
       "    .dataframe thead th {\n",
       "        text-align: right;\n",
       "    }\n",
       "</style>\n",
       "<table border=\"1\" class=\"dataframe\">\n",
       "  <thead>\n",
       "    <tr style=\"text-align: right;\">\n",
       "      <th></th>\n",
       "      <th>pintu_masuk</th>\n",
       "      <th>januari</th>\n",
       "      <th>februari</th>\n",
       "      <th>maret</th>\n",
       "      <th>april</th>\n",
       "      <th>mei</th>\n",
       "      <th>juni</th>\n",
       "      <th>juli</th>\n",
       "      <th>agustus</th>\n",
       "      <th>september</th>\n",
       "      <th>oktober</th>\n",
       "      <th>november</th>\n",
       "      <th>desember</th>\n",
       "    </tr>\n",
       "  </thead>\n",
       "  <tbody>\n",
       "    <tr>\n",
       "      <th>0</th>\n",
       "      <td>Soekarno-Hatta</td>\n",
       "      <td>187123.0</td>\n",
       "      <td>180362.0</td>\n",
       "      <td>194720.0</td>\n",
       "      <td>180787.0</td>\n",
       "      <td>184534.0</td>\n",
       "      <td>208624.0</td>\n",
       "      <td>169135.0</td>\n",
       "      <td>218903.0</td>\n",
       "      <td>174169.0</td>\n",
       "      <td>177274.0</td>\n",
       "      <td>180208.0</td>\n",
       "      <td>190598.0</td>\n",
       "    </tr>\n",
       "    <tr>\n",
       "      <th>1</th>\n",
       "      <td>Ngurah Rai</td>\n",
       "      <td>278685.0</td>\n",
       "      <td>269367.0</td>\n",
       "      <td>268418.0</td>\n",
       "      <td>277925.0</td>\n",
       "      <td>285965.0</td>\n",
       "      <td>329654.0</td>\n",
       "      <td>358907.0</td>\n",
       "      <td>336628.0</td>\n",
       "      <td>352017.0</td>\n",
       "      <td>339200.0</td>\n",
       "      <td>293858.0</td>\n",
       "      <td>341111.0</td>\n",
       "    </tr>\n",
       "    <tr>\n",
       "      <th>2</th>\n",
       "      <td>Kualanamu Int'.</td>\n",
       "      <td>19029.0</td>\n",
       "      <td>17780.0</td>\n",
       "      <td>18493.0</td>\n",
       "      <td>15956.0</td>\n",
       "      <td>19781.0</td>\n",
       "      <td>19376.0</td>\n",
       "      <td>16579.0</td>\n",
       "      <td>16901.0</td>\n",
       "      <td>17792.0</td>\n",
       "      <td>20946.0</td>\n",
       "      <td>22848.0</td>\n",
       "      <td>29243.0</td>\n",
       "    </tr>\n",
       "    <tr>\n",
       "      <th>3</th>\n",
       "      <td>Batam</td>\n",
       "      <td>119054.0</td>\n",
       "      <td>97445.0</td>\n",
       "      <td>122019.0</td>\n",
       "      <td>111929.0</td>\n",
       "      <td>115323.0</td>\n",
       "      <td>140218.0</td>\n",
       "      <td>101966.0</td>\n",
       "      <td>111455.0</td>\n",
       "      <td>113090.0</td>\n",
       "      <td>126169.0</td>\n",
       "      <td>123505.0</td>\n",
       "      <td>171907.0</td>\n",
       "    </tr>\n",
       "    <tr>\n",
       "      <th>4</th>\n",
       "      <td>Sam Ratulangi</td>\n",
       "      <td>1694.0</td>\n",
       "      <td>1079.0</td>\n",
       "      <td>1340.0</td>\n",
       "      <td>1079.0</td>\n",
       "      <td>1365.0</td>\n",
       "      <td>1487.0</td>\n",
       "      <td>1652.0</td>\n",
       "      <td>1854.0</td>\n",
       "      <td>1652.0</td>\n",
       "      <td>1642.0</td>\n",
       "      <td>943.0</td>\n",
       "      <td>1492.0</td>\n",
       "    </tr>\n",
       "  </tbody>\n",
       "</table>\n",
       "</div>"
      ],
      "text/plain": [
       "       pintu_masuk   januari  februari     maret     april       mei  \\\n",
       "0   Soekarno-Hatta  187123.0  180362.0  194720.0  180787.0  184534.0   \n",
       "1       Ngurah Rai  278685.0  269367.0  268418.0  277925.0  285965.0   \n",
       "2  Kualanamu Int'.   19029.0   17780.0   18493.0   15956.0   19781.0   \n",
       "3            Batam  119054.0   97445.0  122019.0  111929.0  115323.0   \n",
       "4    Sam Ratulangi    1694.0    1079.0    1340.0    1079.0    1365.0   \n",
       "\n",
       "       juni      juli   agustus  september   oktober  november  desember  \n",
       "0  208624.0  169135.0  218903.0   174169.0  177274.0  180208.0  190598.0  \n",
       "1  329654.0  358907.0  336628.0   352017.0  339200.0  293858.0  341111.0  \n",
       "2   19376.0   16579.0   16901.0    17792.0   20946.0   22848.0   29243.0  \n",
       "3  140218.0  101966.0  111455.0   113090.0  126169.0  123505.0  171907.0  \n",
       "4    1487.0    1652.0    1854.0     1652.0    1642.0     943.0    1492.0  "
      ]
     },
     "execution_count": 77,
     "metadata": {},
     "output_type": "execute_result"
    }
   ],
   "source": [
    "dataset.head()"
   ]
  },
  {
   "cell_type": "code",
   "execution_count": 78,
   "metadata": {},
   "outputs": [],
   "source": [
    "dataset.index=dataset['pintu_masuk']"
   ]
  },
  {
   "cell_type": "code",
   "execution_count": 79,
   "metadata": {},
   "outputs": [],
   "source": [
    "dataset=dataset.iloc[:,1:13]"
   ]
  },
  {
   "cell_type": "code",
   "execution_count": 80,
   "metadata": {},
   "outputs": [
    {
     "data": {
      "text/html": [
       "<div>\n",
       "<style scoped>\n",
       "    .dataframe tbody tr th:only-of-type {\n",
       "        vertical-align: middle;\n",
       "    }\n",
       "\n",
       "    .dataframe tbody tr th {\n",
       "        vertical-align: top;\n",
       "    }\n",
       "\n",
       "    .dataframe thead th {\n",
       "        text-align: right;\n",
       "    }\n",
       "</style>\n",
       "<table border=\"1\" class=\"dataframe\">\n",
       "  <thead>\n",
       "    <tr style=\"text-align: right;\">\n",
       "      <th></th>\n",
       "      <th>januari</th>\n",
       "      <th>februari</th>\n",
       "      <th>maret</th>\n",
       "      <th>april</th>\n",
       "      <th>mei</th>\n",
       "      <th>juni</th>\n",
       "      <th>juli</th>\n",
       "      <th>agustus</th>\n",
       "      <th>september</th>\n",
       "      <th>oktober</th>\n",
       "      <th>november</th>\n",
       "      <th>desember</th>\n",
       "    </tr>\n",
       "    <tr>\n",
       "      <th>pintu_masuk</th>\n",
       "      <th></th>\n",
       "      <th></th>\n",
       "      <th></th>\n",
       "      <th></th>\n",
       "      <th></th>\n",
       "      <th></th>\n",
       "      <th></th>\n",
       "      <th></th>\n",
       "      <th></th>\n",
       "      <th></th>\n",
       "      <th></th>\n",
       "      <th></th>\n",
       "    </tr>\n",
       "  </thead>\n",
       "  <tbody>\n",
       "    <tr>\n",
       "      <th>Soekarno-Hatta</th>\n",
       "      <td>187123.0</td>\n",
       "      <td>180362.0</td>\n",
       "      <td>194720.0</td>\n",
       "      <td>180787.0</td>\n",
       "      <td>184534.0</td>\n",
       "      <td>208624.0</td>\n",
       "      <td>169135.0</td>\n",
       "      <td>218903.0</td>\n",
       "      <td>174169.0</td>\n",
       "      <td>177274.0</td>\n",
       "      <td>180208.0</td>\n",
       "      <td>190598.0</td>\n",
       "    </tr>\n",
       "    <tr>\n",
       "      <th>Ngurah Rai</th>\n",
       "      <td>278685.0</td>\n",
       "      <td>269367.0</td>\n",
       "      <td>268418.0</td>\n",
       "      <td>277925.0</td>\n",
       "      <td>285965.0</td>\n",
       "      <td>329654.0</td>\n",
       "      <td>358907.0</td>\n",
       "      <td>336628.0</td>\n",
       "      <td>352017.0</td>\n",
       "      <td>339200.0</td>\n",
       "      <td>293858.0</td>\n",
       "      <td>341111.0</td>\n",
       "    </tr>\n",
       "    <tr>\n",
       "      <th>Kualanamu Int'.</th>\n",
       "      <td>19029.0</td>\n",
       "      <td>17780.0</td>\n",
       "      <td>18493.0</td>\n",
       "      <td>15956.0</td>\n",
       "      <td>19781.0</td>\n",
       "      <td>19376.0</td>\n",
       "      <td>16579.0</td>\n",
       "      <td>16901.0</td>\n",
       "      <td>17792.0</td>\n",
       "      <td>20946.0</td>\n",
       "      <td>22848.0</td>\n",
       "      <td>29243.0</td>\n",
       "    </tr>\n",
       "    <tr>\n",
       "      <th>Batam</th>\n",
       "      <td>119054.0</td>\n",
       "      <td>97445.0</td>\n",
       "      <td>122019.0</td>\n",
       "      <td>111929.0</td>\n",
       "      <td>115323.0</td>\n",
       "      <td>140218.0</td>\n",
       "      <td>101966.0</td>\n",
       "      <td>111455.0</td>\n",
       "      <td>113090.0</td>\n",
       "      <td>126169.0</td>\n",
       "      <td>123505.0</td>\n",
       "      <td>171907.0</td>\n",
       "    </tr>\n",
       "    <tr>\n",
       "      <th>Sam Ratulangi</th>\n",
       "      <td>1694.0</td>\n",
       "      <td>1079.0</td>\n",
       "      <td>1340.0</td>\n",
       "      <td>1079.0</td>\n",
       "      <td>1365.0</td>\n",
       "      <td>1487.0</td>\n",
       "      <td>1652.0</td>\n",
       "      <td>1854.0</td>\n",
       "      <td>1652.0</td>\n",
       "      <td>1642.0</td>\n",
       "      <td>943.0</td>\n",
       "      <td>1492.0</td>\n",
       "    </tr>\n",
       "  </tbody>\n",
       "</table>\n",
       "</div>"
      ],
      "text/plain": [
       "                  januari  februari     maret     april       mei      juni  \\\n",
       "pintu_masuk                                                                   \n",
       "Soekarno-Hatta   187123.0  180362.0  194720.0  180787.0  184534.0  208624.0   \n",
       "Ngurah Rai       278685.0  269367.0  268418.0  277925.0  285965.0  329654.0   \n",
       "Kualanamu Int'.   19029.0   17780.0   18493.0   15956.0   19781.0   19376.0   \n",
       "Batam            119054.0   97445.0  122019.0  111929.0  115323.0  140218.0   \n",
       "Sam Ratulangi      1694.0    1079.0    1340.0    1079.0    1365.0    1487.0   \n",
       "\n",
       "                     juli   agustus  september   oktober  november  desember  \n",
       "pintu_masuk                                                                   \n",
       "Soekarno-Hatta   169135.0  218903.0   174169.0  177274.0  180208.0  190598.0  \n",
       "Ngurah Rai       358907.0  336628.0   352017.0  339200.0  293858.0  341111.0  \n",
       "Kualanamu Int'.   16579.0   16901.0    17792.0   20946.0   22848.0   29243.0  \n",
       "Batam            101966.0  111455.0   113090.0  126169.0  123505.0  171907.0  \n",
       "Sam Ratulangi      1652.0    1854.0     1652.0    1642.0     943.0    1492.0  "
      ]
     },
     "execution_count": 80,
     "metadata": {},
     "output_type": "execute_result"
    }
   ],
   "source": [
    "# Menampilkan 5 baris data pertama \n",
    "dataset.head() #untuk menampilkan 5 baris data pertama "
   ]
  },
  {
   "cell_type": "code",
   "execution_count": 29,
   "metadata": {},
   "outputs": [],
   "source": [
    "dataset=dataset.iloc[1:11]"
   ]
  },
  {
   "cell_type": "code",
   "execution_count": null,
   "metadata": {},
   "outputs": [],
   "source": []
  },
  {
   "cell_type": "markdown",
   "metadata": {},
   "source": [
    "Langkah ketiga adalah dengan melakukan konversi dataset ke data array "
   ]
  },
  {
   "cell_type": "code",
   "execution_count": 81,
   "metadata": {},
   "outputs": [],
   "source": [
    "# Step 3. Konversi Dataset ke Data Array \n",
    "X = np.asarray(dataset)"
   ]
  },
  {
   "cell_type": "markdown",
   "metadata": {},
   "source": [
    "Langkah keempat adalah menampilkan Data Array ke dalam Scatter plot "
   ]
  },
  {
   "cell_type": "code",
   "execution_count": 5,
   "metadata": {},
   "outputs": [
    {
     "data": {
      "text/plain": [
       "Text(0.5,1,'Grafik Konsumen')"
      ]
     },
     "execution_count": 5,
     "metadata": {},
     "output_type": "execute_result"
    },
    {
     "data": {
      "image/png": "[encoded data removed]",
      "text/plain": [
       "<Figure size 432x288 with 1 Axes>"
      ]
     },
     "metadata": {
      "needs_background": "light"
     },
     "output_type": "display_data"
    }
   ],
   "source": [
    "## Step 4. Menampilkan data ke dalam grafik scatterplot \n",
    "plt.scatter(X[:,0],X[:,1], label = 'True Position')\n",
    "plt.xlabel(\"Gaji\")\n",
    "plt.ylabel(\"Pengeluaran\")\n",
    "plt.title(\"Grafik Konsumen\")"
   ]
  },
  {
   "cell_type": "markdown",
   "metadata": {},
   "source": [
    "Langkah kelima adalah melakukan algoritma K-Means dengan jumlah K yang ditentukan dengan scree plot"
   ]
  },
  {
   "cell_type": "code",
   "execution_count": 82,
   "metadata": {},
   "outputs": [
    {
     "data": {
      "text/plain": [
       "array([[187123., 180362., 194720., 180787., 184534., 208624., 169135.,\n",
       "        218903., 174169., 177274., 180208., 190598.],\n",
       "       [278685., 269367., 268418., 277925., 285965., 329654., 358907.,\n",
       "        336628., 352017., 339200., 293858., 341111.],\n",
       "       [ 19029.,  17780.,  18493.,  15956.,  19781.,  19376.,  16579.,\n",
       "         16901.,  17792.,  20946.,  22848.,  29243.],\n",
       "       [119054.,  97445., 122019., 111929., 115323., 140218., 101966.,\n",
       "        111455., 113090., 126169., 123505., 171907.],\n",
       "       [  1694.,   1079.,   1340.,   1079.,   1365.,   1487.,   1652.,\n",
       "          1854.,   1652.,   1642.,    943.,   1492.],\n",
       "       [ 16870.,  16476.,  18776.,  19145.,  20299.,  18685.,  16174.,\n",
       "         18239.,  17124.,  17997.,  18324.,  19084.],\n",
       "       [  1535.,   1609.,   1699.,   1430.,   1785.,   1703.,   2488.,\n",
       "          1568.,   1445.,   1731.,   1936.,   3535.],\n",
       "       [   774.,    803.,   1114.,   1029.,   1692.,   1042.,   1125.,\n",
       "          1399.,   1258.,   1122.,    853.,    700.],\n",
       "       [  5497.,   2889.,   4327.,   3916.,   4573.,   3779.,   3926.,\n",
       "          3364.,   3857.,   3515.,   3990.,   6563.],\n",
       "       [  5496.,   4867.,   8767.,   5182.,   5594.,   4892.,   4458.,\n",
       "          4902.,   4248.,   5287.,   5915.,   5333.],\n",
       "       [  8236.,   6132.,   9057.,   8227.,   8041.,   9773.,   7149.,\n",
       "          8589.,   7327.,   6716.,   7818.,  10607.],\n",
       "       [  5105.,   4862.,   5987.,   5413.,   6499.,   6071.,   6582.,\n",
       "          7259.,   6532.,   5438.,   3748.,   6385.],\n",
       "       [  1707.,   1213.,   1159.,   1241.,   1124.,   1134.,   1106.,\n",
       "          1625.,   1389.,   1279.,   1337.,   1399.],\n",
       "       [   963.,   1089.,   1244.,   1106.,   1074.,   1425.,    848.,\n",
       "          1265.,   1125.,   1141.,   1015.,    861.],\n",
       "       [  2399.,   2117.,   2130.,   1907.,   2502.,   2247.,   1713.,\n",
       "          1823.,   1912.,   2334.,   2776.,   3522.],\n",
       "       [  8855.,   6132.,   8234.,   7569.,   8679.,   7061.,   5394.,\n",
       "          8488.,   5221.,   7932.,   7172.,   8419.],\n",
       "       [ 16257.,  14560.,  21463.,  13490.,  14588.,  16899.,   6166.,\n",
       "         10545.,  14068.,  15018.,  16539.,  20799.],\n",
       "       [ 28811.,  25090.,  27009.,  24205.,  22204.,  30867.,  31102.,\n",
       "         31388.,  23661.,  25882.,  22733.,  27909.],\n",
       "       [  8329.,   8388.,   8945.,   7621.,   8731.,  10074.,   6343.,\n",
       "          7545.,   7777.,   8164.,   7938.,  10927.],\n",
       "       [ 36660.,  40406.,  40706.,  37175.,  38010.,  36464.,  34367.,\n",
       "         33081.,  35632.,  39980.,  41005.,  54940.]])"
      ]
     },
     "execution_count": 82,
     "metadata": {},
     "output_type": "execute_result"
    }
   ],
   "source": [
    "X"
   ]
  },
  {
   "cell_type": "code",
   "execution_count": 83,
   "metadata": {},
   "outputs": [
    {
     "data": {
      "image/png": "[encoded data removed]",
      "text/plain": [
       "<Figure size 432x288 with 1 Axes>"
      ]
     },
     "metadata": {
      "needs_background": "light"
     },
     "output_type": "display_data"
    }
   ],
   "source": [
    "Sum_of_squared_distances = []\n",
    "K = range(1,10)\n",
    "for k in K:\n",
    "    km = KMeans(n_clusters=k)\n",
    "    km = km.fit(X)\n",
    "    Sum_of_squared_distances.append(km.inertia_)\n",
    "\n",
    "plt.plot(K, Sum_of_squared_distances, 'bx-')\n",
    "plt.xlabel('k')\n",
    "plt.ylabel('Sum_of_squared_distances')\n",
    "plt.title('Elbow Method For Optimal k')\n",
    "plt.show()"
   ]
  },
  {
   "cell_type": "code",
   "execution_count": 84,
   "metadata": {},
   "outputs": [
    {
     "data": {
      "text/plain": [
       "KMeans(algorithm='auto', copy_x=True, init='k-means++', max_iter=300,\n",
       "    n_clusters=2, n_init=10, n_jobs=None, precompute_distances='auto',\n",
       "    random_state=None, tol=0.0001, verbose=0)"
      ]
     },
     "execution_count": 84,
     "metadata": {},
     "output_type": "execute_result"
    }
   ],
   "source": [
    "# Step 5. Melakukan aktivasi algoritma K-Means \n",
    "kmeans = KMeans(n_clusters=2)\n",
    "kmeans.fit(X)"
   ]
  },
  {
   "cell_type": "markdown",
   "metadata": {},
   "source": [
    "Langkah keenam adalah menampilkan nilai centroid dan label data point "
   ]
  },
  {
   "cell_type": "code",
   "execution_count": 85,
   "metadata": {
    "scrolled": true
   },
   "outputs": [
    {
     "name": "stdout",
     "output_type": "stream",
     "text": [
      "[[  9895.11764706   9146.58823529  10614.70588235   9158.29411765\n",
      "    9796.52941176  10175.23529412   8657.17647059   9402.05882353\n",
      "    8942.35294118   9772.           9817.05882353  12454.        ]\n",
      " [194954.         182391.33333333 195052.33333333 190213.66666667\n",
      "  195274.         226165.33333333 210002.66666667 222328.66666667\n",
      "  213092.         214214.33333333 199190.33333333 234538.66666667]]\n"
     ]
    }
   ],
   "source": [
    "# Step 6. Menampilkan nilai centroid yang dibangkitkan oleh algoritma kmeans \n",
    "print(kmeans.cluster_centers_)"
   ]
  },
  {
   "cell_type": "code",
   "execution_count": 96,
   "metadata": {},
   "outputs": [],
   "source": [
    "labels=pd.DataFrame(kmeans.labels_)"
   ]
  },
  {
   "cell_type": "code",
   "execution_count": 97,
   "metadata": {},
   "outputs": [],
   "source": [
    "labels.index=dataset.index"
   ]
  },
  {
   "cell_type": "code",
   "execution_count": 86,
   "metadata": {},
   "outputs": [
    {
     "name": "stdout",
     "output_type": "stream",
     "text": [
      "[1 1 0 1 0 0 0 0 0 0 0 0 0 0 0 0 0 0 0 0]\n"
     ]
    }
   ],
   "source": [
    "print(kmeans.labels_)"
   ]
  },
  {
   "cell_type": "code",
   "execution_count": 98,
   "metadata": {},
   "outputs": [
    {
     "data": {
      "text/html": [
       "<div>\n",
       "<style scoped>\n",
       "    .dataframe tbody tr th:only-of-type {\n",
       "        vertical-align: middle;\n",
       "    }\n",
       "\n",
       "    .dataframe tbody tr th {\n",
       "        vertical-align: top;\n",
       "    }\n",
       "\n",
       "    .dataframe thead th {\n",
       "        text-align: right;\n",
       "    }\n",
       "</style>\n",
       "<table border=\"1\" class=\"dataframe\">\n",
       "  <thead>\n",
       "    <tr style=\"text-align: right;\">\n",
       "      <th></th>\n",
       "      <th>0</th>\n",
       "    </tr>\n",
       "    <tr>\n",
       "      <th>pintu_masuk</th>\n",
       "      <th></th>\n",
       "    </tr>\n",
       "  </thead>\n",
       "  <tbody>\n",
       "    <tr>\n",
       "      <th>Soekarno-Hatta</th>\n",
       "      <td>1</td>\n",
       "    </tr>\n",
       "    <tr>\n",
       "      <th>Ngurah Rai</th>\n",
       "      <td>1</td>\n",
       "    </tr>\n",
       "    <tr>\n",
       "      <th>Kualanamu Int'.</th>\n",
       "      <td>0</td>\n",
       "    </tr>\n",
       "    <tr>\n",
       "      <th>Batam</th>\n",
       "      <td>1</td>\n",
       "    </tr>\n",
       "    <tr>\n",
       "      <th>Sam Ratulangi</th>\n",
       "      <td>0</td>\n",
       "    </tr>\n",
       "    <tr>\n",
       "      <th>Juanda</th>\n",
       "      <td>0</td>\n",
       "    </tr>\n",
       "    <tr>\n",
       "      <th>Entikong</th>\n",
       "      <td>0</td>\n",
       "    </tr>\n",
       "    <tr>\n",
       "      <th>Adi Sumarmo</th>\n",
       "      <td>0</td>\n",
       "    </tr>\n",
       "    <tr>\n",
       "      <th>Minangkabau</th>\n",
       "      <td>0</td>\n",
       "    </tr>\n",
       "    <tr>\n",
       "      <th>Tanjung Priok</th>\n",
       "      <td>0</td>\n",
       "    </tr>\n",
       "    <tr>\n",
       "      <th>Tanjung Pinang</th>\n",
       "      <td>0</td>\n",
       "    </tr>\n",
       "    <tr>\n",
       "      <th>Bandara Int. Lombok</th>\n",
       "      <td>0</td>\n",
       "    </tr>\n",
       "    <tr>\n",
       "      <th>Makasar</th>\n",
       "      <td>0</td>\n",
       "    </tr>\n",
       "    <tr>\n",
       "      <th>Sepinggan</th>\n",
       "      <td>0</td>\n",
       "    </tr>\n",
       "    <tr>\n",
       "      <th>Sultan Syarif Kasim II</th>\n",
       "      <td>0</td>\n",
       "    </tr>\n",
       "    <tr>\n",
       "      <th>Adisucipto</th>\n",
       "      <td>0</td>\n",
       "    </tr>\n",
       "    <tr>\n",
       "      <th>Husein Sastranegara</th>\n",
       "      <td>0</td>\n",
       "    </tr>\n",
       "    <tr>\n",
       "      <th>Tanjung Uban</th>\n",
       "      <td>0</td>\n",
       "    </tr>\n",
       "    <tr>\n",
       "      <th>Balai Karimun</th>\n",
       "      <td>0</td>\n",
       "    </tr>\n",
       "    <tr>\n",
       "      <th>Pintu Lainnya</th>\n",
       "      <td>0</td>\n",
       "    </tr>\n",
       "  </tbody>\n",
       "</table>\n",
       "</div>"
      ],
      "text/plain": [
       "                        0\n",
       "pintu_masuk              \n",
       "Soekarno-Hatta          1\n",
       "Ngurah Rai              1\n",
       "Kualanamu Int'.         0\n",
       "Batam                   1\n",
       "Sam Ratulangi           0\n",
       "Juanda                  0\n",
       "Entikong                0\n",
       "Adi Sumarmo             0\n",
       "Minangkabau             0\n",
       "Tanjung Priok           0\n",
       "Tanjung Pinang          0\n",
       "Bandara Int. Lombok     0\n",
       "Makasar                 0\n",
       "Sepinggan               0\n",
       "Sultan Syarif Kasim II  0\n",
       "Adisucipto              0\n",
       "Husein Sastranegara     0\n",
       "Tanjung Uban            0\n",
       "Balai Karimun           0\n",
       "Pintu Lainnya           0"
      ]
     },
     "execution_count": 98,
     "metadata": {},
     "output_type": "execute_result"
    }
   ],
   "source": [
    "labels"
   ]
  },
  {
   "cell_type": "markdown",
   "metadata": {},
   "source": [
    "Langkah ketujuh adalah visualisasi hasil clustering"
   ]
  },
  {
   "cell_type": "code",
   "execution_count": 90,
   "metadata": {},
   "outputs": [],
   "source": [
    "# Memasukkan hasil label ke dalam suatu \n",
    "data_clustered = pd.DataFrame(X)\n",
    "data_clustered['cluster'] = pd.DataFrame(kmeans.labels_)\n",
    "data_clustered = data_clustered.sort_values('cluster')\n",
    "data_clustered = np.asarray(data_clustered)"
   ]
  },
  {
   "cell_type": "code",
   "execution_count": 99,
   "metadata": {},
   "outputs": [
    {
     "data": {
      "image/png": "[encoded data removed]",
      "text/plain": [
       "<Figure size 432x288 with 1 Axes>"
      ]
     },
     "metadata": {
      "needs_background": "light"
     },
     "output_type": "display_data"
    }
   ],
   "source": [
    "# Membuat similarity Matrix \n",
    "from scipy.spatial.distance import cdist\n",
    "dist = cdist(data_clustered[:,0:2],data_clustered[:,0:2], metric='euclidean')\n",
    "plt.imshow(dist)\n",
    "plt.show()"
   ]
  },
  {
   "cell_type": "code",
   "execution_count": 100,
   "metadata": {},
   "outputs": [],
   "source": [
    "# Menghitung Dunn's index \n",
    "# Mengingat tidak ada function Dunn's Index dalam sklearn, kita gunakan alternatif lain yaitu DB Index. \n",
    "# Silakan baca referensi berikut"
   ]
  },
  {
   "cell_type": "markdown",
   "metadata": {},
   "source": [
    "Referensi: https://www.geeksforgeeks.org/dunn-index-and-db-index-cluster-validity-indices-set-1/ "
   ]
  },
  {
   "cell_type": "code",
   "execution_count": 15,
   "metadata": {},
   "outputs": [],
   "source": [
    "# Namun ketika dicoba, package sklearn mesti dinaikkan versinya menjadi versi 0.21.2\n",
    "# Alternatif lain, kita bisa melakukan pembuatan function seperti pada referensi berikut ini: "
   ]
  },
  {
   "cell_type": "markdown",
   "metadata": {},
   "source": [
    "Referensi: https://gist.github.com/douglasrizzo/cd7e792ff3a2dcaf27f6"
   ]
  }
 ],
 "metadata": {
  "kernelspec": {
   "display_name": "Python 3",
   "language": "python",
   "name": "python3"
  },
  "language_info": {
   "codemirror_mode": {
    "name": "ipython",
    "version": 3
   },
   "file_extension": ".py",
   "mimetype": "text/x-python",
   "name": "python",
   "nbconvert_exporter": "python",
   "pygments_lexer": "ipython3",
   "version": "3.7.1"
  }
 },
 "nbformat": 4,
 "nbformat_minor": 2
}
